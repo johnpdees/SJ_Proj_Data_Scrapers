{
 "cells": [
  {
   "cell_type": "code",
   "execution_count": 26,
   "metadata": {},
   "outputs": [],
   "source": [
    "import urllib\n",
    "import datetime\n",
    "\n",
    "start_date = datetime.date(2017, 3, 18)\n",
    "end_date = datetime.date(2017, 3, 19)\n",
    "d = datetime.timedelta(1)\n",
    "\n",
    "curr_date = start_date\n",
    "while curr_date <= end_date:\n",
    "    \n",
    "    year = str(curr_date.year)\n",
    "    month = str(curr_date.month).zfill(2)\n",
    "    day = str(curr_date.day).zfill(2)\n",
    "\n",
    "    urllib.request.urlretrieve(\"http://berkeleyearth.lbl.gov/air-quality/data/Map_{}{}{}.nc\".format(year,month,day),\n",
    "                               \"Map_{}{}{}\".format(year,month, day))\n",
    "    curr_date = curr_date+d"
   ]
  },
  {
   "cell_type": "code",
   "execution_count": 17,
   "metadata": {},
   "outputs": [
    {
     "name": "stdout",
     "output_type": "stream",
     "text": [
      "http://berkeleyearth.lbl.gov/air-quality/data/Map_2016.nc\n"
     ]
    }
   ],
   "source": [
    "test = \"http://berkeleyearth.lbl.gov/air-quality/data/Map_{}.nc\".format(year,month,day)\n",
    "print(test)"
   ]
  },
  {
   "cell_type": "code",
   "execution_count": null,
   "metadata": {},
   "outputs": [],
   "source": []
  }
 ],
 "metadata": {
  "kernelspec": {
   "display_name": "Python 3",
   "language": "python",
   "name": "python3"
  },
  "language_info": {
   "codemirror_mode": {
    "name": "ipython",
    "version": 3
   },
   "file_extension": ".py",
   "mimetype": "text/x-python",
   "name": "python",
   "nbconvert_exporter": "python",
   "pygments_lexer": "ipython3",
   "version": "3.6.3"
  }
 },
 "nbformat": 4,
 "nbformat_minor": 2
}
